{
 "cells": [
  {
   "cell_type": "code",
   "execution_count": 4,
   "metadata": {},
   "outputs": [
    {
     "name": "stdout",
     "output_type": "stream",
     "text": [
      "Requirement already satisfied: numpy in c:\\users\\home\\documents\\github\\classify_picture_logistic-regression\\.venv\\lib\\site-packages (2.0.2)\n",
      "Collecting h5py\n",
      "  Downloading h5py-3.12.1-cp39-cp39-win_amd64.whl.metadata (2.5 kB)\n",
      "Requirement already satisfied: numpy>=1.19.3 in c:\\users\\home\\documents\\github\\classify_picture_logistic-regression\\.venv\\lib\\site-packages (from h5py) (2.0.2)\n",
      "Downloading h5py-3.12.1-cp39-cp39-win_amd64.whl (3.0 MB)\n",
      "   ---------------------------------------- 0.0/3.0 MB ? eta -:--:--\n",
      "   --------------------------- ------------ 2.1/3.0 MB 10.7 MB/s eta 0:00:01\n",
      "   ---------------------------------------- 3.0/3.0 MB 9.7 MB/s eta 0:00:00\n",
      "Installing collected packages: h5py\n",
      "Successfully installed h5py-3.12.1\n"
     ]
    }
   ],
   "source": [
    "!pip install numpy\n",
    "!pip install h5py"
   ]
  },
  {
   "cell_type": "code",
   "execution_count": 11,
   "metadata": {},
   "outputs": [],
   "source": [
    "import h5py\n",
    "import numpy as np\n",
    "\n",
    "\n",
    "def load_data():\n",
    "    train_dataset = h5py.File('dataset/trainset.hdf5', \"r\")\n",
    "    X_train = np.array(train_dataset[\"X_train\"][:]) # your train set features\n",
    "    y_train = np.array(train_dataset[\"Y_train\"][:]) # your train set labels\n",
    "\n",
    "    test_dataset = h5py.File('dataset/testset.hdf5', \"r\")\n",
    "    X_test = np.array(test_dataset[\"X_test\"][:]) # your train set features\n",
    "    y_test = np.array(test_dataset[\"Y_test\"][:]) # your train set labels\n",
    "    \n",
    "    return X_train, y_train, X_test, y_test\n",
    "\n",
    "x_train, y_train, x_test, y_test = load_data()"
   ]
  },
  {
   "cell_type": "code",
   "execution_count": 12,
   "metadata": {},
   "outputs": [
    {
     "name": "stdout",
     "output_type": "stream",
     "text": [
      "x_train shape: (1000, 4096)\n",
      "y_train shape: (1000, 1)\n",
      "x_test shape: (200, 4096)\n",
      "y_test shape: (200, 1)\n",
      "x_train max: 1.0\n",
      "x_test max: 1.0\n"
     ]
    }
   ],
   "source": [
    "\n",
    "# Normalize image vectors\n",
    "x_train = x_train / x_train.max()\n",
    "x_test = x_test / x_test.max()\n",
    "\n",
    "# Normalize labels pas necessaire car les labels sont déjà normalisés\n",
    "# flatten les image\n",
    "x_train = x_train.reshape(x_train.shape[0], -1)  # 64x64 = 4096 ou -1 pour laisser numpy calculer\n",
    "x_test = x_test.reshape(x_test.shape[0], -1)\n",
    "\n",
    "# afficher les dimensions\n",
    "print(\"x_train shape:\", x_train.shape)\n",
    "print(\"y_train shape:\", y_train.shape)\n",
    "print(\"x_test shape:\", x_test.shape)\n",
    "print(\"y_test shape:\", y_test.shape)\n",
    "#affichage max\n",
    "print(\"x_train max:\", x_train.max())\n",
    "print(\"x_test max:\", x_test.max())"
   ]
  },
  {
   "cell_type": "code",
   "execution_count": 13,
   "metadata": {},
   "outputs": [
    {
     "name": "stdout",
     "output_type": "stream",
     "text": [
      "w shape: (4096, 1)\n",
      "b shape: (1,)\n"
     ]
    }
   ],
   "source": [
    "# generer random weights et bias\n",
    "w = np.random.randn(4096, 1)\n",
    "b = np.random.randn(1)\n",
    "\n",
    "# afficher les dimensions\n",
    "print(\"w shape:\", w.shape)\n",
    "print(\"b shape:\", b.shape)\n",
    "\n",
    "# initialiser w et b\n",
    "def initialize_with_zeros(nb_weights=4096):\n",
    "    w = np.random.randn(nb_weights, 1)\n",
    "    b = np.random.randn(1)\n",
    "    return w, b"
   ]
  },
  {
   "cell_type": "code",
   "execution_count": 15,
   "metadata": {},
   "outputs": [
    {
     "name": "stdout",
     "output_type": "stream",
     "text": [
      "Requirement already satisfied: torch in c:\\users\\home\\documents\\github\\classify_picture_logistic-regression\\.venv\\lib\\site-packages (2.4.1)\n",
      "Requirement already satisfied: filelock in c:\\users\\home\\documents\\github\\classify_picture_logistic-regression\\.venv\\lib\\site-packages (from torch) (3.16.1)\n",
      "Requirement already satisfied: typing-extensions>=4.8.0 in c:\\users\\home\\documents\\github\\classify_picture_logistic-regression\\.venv\\lib\\site-packages (from torch) (4.12.2)\n",
      "Requirement already satisfied: sympy in c:\\users\\home\\documents\\github\\classify_picture_logistic-regression\\.venv\\lib\\site-packages (from torch) (1.13.3)\n",
      "Requirement already satisfied: networkx in c:\\users\\home\\documents\\github\\classify_picture_logistic-regression\\.venv\\lib\\site-packages (from torch) (3.2.1)\n",
      "Requirement already satisfied: jinja2 in c:\\users\\home\\documents\\github\\classify_picture_logistic-regression\\.venv\\lib\\site-packages (from torch) (3.1.4)\n",
      "Requirement already satisfied: fsspec in c:\\users\\home\\documents\\github\\classify_picture_logistic-regression\\.venv\\lib\\site-packages (from torch) (2024.9.0)\n",
      "Requirement already satisfied: MarkupSafe>=2.0 in c:\\users\\home\\documents\\github\\classify_picture_logistic-regression\\.venv\\lib\\site-packages (from jinja2->torch) (2.1.5)\n",
      "Requirement already satisfied: mpmath<1.4,>=1.1.0 in c:\\users\\home\\documents\\github\\classify_picture_logistic-regression\\.venv\\lib\\site-packages (from sympy->torch) (1.3.0)\n"
     ]
    }
   ],
   "source": [
    "!pip install torch"
   ]
  },
  {
   "cell_type": "code",
   "execution_count": 16,
   "metadata": {},
   "outputs": [
    {
     "name": "stdout",
     "output_type": "stream",
     "text": [
      "Requirement already satisfied: scikit-learn in c:\\users\\home\\documents\\github\\classify_picture_logistic-regression\\.venv\\lib\\site-packages (1.5.2)\n",
      "Requirement already satisfied: numpy>=1.19.5 in c:\\users\\home\\documents\\github\\classify_picture_logistic-regression\\.venv\\lib\\site-packages (from scikit-learn) (2.0.2)\n",
      "Requirement already satisfied: scipy>=1.6.0 in c:\\users\\home\\documents\\github\\classify_picture_logistic-regression\\.venv\\lib\\site-packages (from scikit-learn) (1.13.1)\n",
      "Requirement already satisfied: joblib>=1.2.0 in c:\\users\\home\\documents\\github\\classify_picture_logistic-regression\\.venv\\lib\\site-packages (from scikit-learn) (1.4.2)\n",
      "Requirement already satisfied: threadpoolctl>=3.1.0 in c:\\users\\home\\documents\\github\\classify_picture_logistic-regression\\.venv\\lib\\site-packages (from scikit-learn) (3.5.0)\n"
     ]
    }
   ],
   "source": [
    "#!pip install matplotlib\n",
    "!pip install scikit-learn\n"
   ]
  },
  {
   "cell_type": "code",
   "execution_count": 14,
   "metadata": {},
   "outputs": [],
   "source": [
    "import matplotlib.pyplot as plt\n",
    "\n",
    "plt.style.use('dark_background')\n",
    "plt.rcParams.update({\n",
    "    \"figure.facecolor\":  (0.12 , 0.12, 0.12, 1),\n",
    "    \"axes.facecolor\": (0.12 , 0.12, 0.12, 1),\n",
    "})"
   ]
  },
  {
   "cell_type": "code",
   "execution_count": 108,
   "metadata": {},
   "outputs": [
    {
     "name": "stdout",
     "output_type": "stream",
     "text": [
      "Collecting tqdm\n",
      "  Downloading tqdm-4.66.5-py3-none-any.whl.metadata (57 kB)\n",
      "Requirement already satisfied: colorama in c:\\users\\home\\documents\\github\\classify_picture_logistic-regression\\.venv\\lib\\site-packages (from tqdm) (0.4.6)\n",
      "Downloading tqdm-4.66.5-py3-none-any.whl (78 kB)\n",
      "Installing collected packages: tqdm\n",
      "Successfully installed tqdm-4.66.5\n"
     ]
    }
   ],
   "source": [
    "!pip install tqdm"
   ]
  },
  {
   "cell_type": "code",
   "execution_count": 15,
   "metadata": {},
   "outputs": [
    {
     "name": "stderr",
     "output_type": "stream",
     "text": [
      "  0%|          | 0/10000 [00:00<?, ?it/s]"
     ]
    },
    {
     "name": "stdout",
     "output_type": "stream",
     "text": [
      "Epoch 0 - loss: 7.477188553215995\n"
     ]
    },
    {
     "name": "stderr",
     "output_type": "stream",
     "text": [
      "  5%|▌         | 519/10000 [00:07<01:31, 104.03it/s]"
     ]
    },
    {
     "name": "stdout",
     "output_type": "stream",
     "text": [
      "Epoch 500 - loss: 3.4755636831120555\n"
     ]
    },
    {
     "name": "stderr",
     "output_type": "stream",
     "text": [
      " 10%|█         | 1011/10000 [00:12<01:28, 102.11it/s]"
     ]
    },
    {
     "name": "stdout",
     "output_type": "stream",
     "text": [
      "Epoch 1000 - loss: 2.9899584615908767\n"
     ]
    },
    {
     "name": "stderr",
     "output_type": "stream",
     "text": [
      " 15%|█▌        | 1518/10000 [00:17<01:14, 113.63it/s]"
     ]
    },
    {
     "name": "stdout",
     "output_type": "stream",
     "text": [
      "Epoch 1500 - loss: 2.676864634745283\n"
     ]
    },
    {
     "name": "stderr",
     "output_type": "stream",
     "text": [
      " 20%|██        | 2011/10000 [00:22<01:14, 107.01it/s]"
     ]
    },
    {
     "name": "stdout",
     "output_type": "stream",
     "text": [
      "Epoch 2000 - loss: 2.4506805752994154\n"
     ]
    },
    {
     "name": "stderr",
     "output_type": "stream",
     "text": [
      " 25%|██▌       | 2523/10000 [00:27<01:05, 113.41it/s]"
     ]
    },
    {
     "name": "stdout",
     "output_type": "stream",
     "text": [
      "Epoch 2500 - loss: 2.270505128212442\n"
     ]
    },
    {
     "name": "stderr",
     "output_type": "stream",
     "text": [
      " 30%|███       | 3013/10000 [00:32<00:59, 117.02it/s]"
     ]
    },
    {
     "name": "stdout",
     "output_type": "stream",
     "text": [
      "Epoch 3000 - loss: 2.116923754460312\n"
     ]
    },
    {
     "name": "stderr",
     "output_type": "stream",
     "text": [
      " 35%|███▌      | 3524/10000 [00:37<00:53, 120.21it/s]"
     ]
    },
    {
     "name": "stdout",
     "output_type": "stream",
     "text": [
      "Epoch 3500 - loss: 1.9821434807104965\n"
     ]
    },
    {
     "name": "stderr",
     "output_type": "stream",
     "text": [
      " 40%|████      | 4014/10000 [00:42<00:53, 112.82it/s]"
     ]
    },
    {
     "name": "stdout",
     "output_type": "stream",
     "text": [
      "Epoch 4000 - loss: 1.8617414426264396\n"
     ]
    },
    {
     "name": "stderr",
     "output_type": "stream",
     "text": [
      " 45%|████▌     | 4512/10000 [00:47<00:53, 103.48it/s]"
     ]
    },
    {
     "name": "stdout",
     "output_type": "stream",
     "text": [
      "Epoch 4500 - loss: 1.7530673139045438\n"
     ]
    },
    {
     "name": "stderr",
     "output_type": "stream",
     "text": [
      " 50%|█████     | 5010/10000 [00:52<00:45, 109.49it/s]"
     ]
    },
    {
     "name": "stdout",
     "output_type": "stream",
     "text": [
      "Epoch 5000 - loss: 1.6543829811104498\n"
     ]
    },
    {
     "name": "stderr",
     "output_type": "stream",
     "text": [
      " 55%|█████▌    | 5516/10000 [00:58<00:43, 102.66it/s]"
     ]
    },
    {
     "name": "stdout",
     "output_type": "stream",
     "text": [
      "Epoch 5500 - loss: 1.564480453213942\n"
     ]
    },
    {
     "name": "stderr",
     "output_type": "stream",
     "text": [
      " 60%|██████    | 6011/10000 [01:03<00:40, 98.28it/s] "
     ]
    },
    {
     "name": "stdout",
     "output_type": "stream",
     "text": [
      "Epoch 6000 - loss: 1.4824203369706397\n"
     ]
    },
    {
     "name": "stderr",
     "output_type": "stream",
     "text": [
      " 65%|██████▌   | 6523/10000 [01:08<00:33, 105.01it/s]"
     ]
    },
    {
     "name": "stdout",
     "output_type": "stream",
     "text": [
      "Epoch 6500 - loss: 1.4072874135723588\n"
     ]
    },
    {
     "name": "stderr",
     "output_type": "stream",
     "text": [
      " 70%|███████   | 7014/10000 [01:13<00:31, 95.68it/s] "
     ]
    },
    {
     "name": "stdout",
     "output_type": "stream",
     "text": [
      "Epoch 7000 - loss: 1.3381660280756138\n"
     ]
    },
    {
     "name": "stderr",
     "output_type": "stream",
     "text": [
      " 75%|███████▌  | 7510/10000 [01:18<00:23, 105.62it/s]"
     ]
    },
    {
     "name": "stdout",
     "output_type": "stream",
     "text": [
      "Epoch 7500 - loss: 1.2742845198933606\n"
     ]
    },
    {
     "name": "stderr",
     "output_type": "stream",
     "text": [
      " 80%|████████  | 8012/10000 [01:23<00:18, 105.58it/s]"
     ]
    },
    {
     "name": "stdout",
     "output_type": "stream",
     "text": [
      "Epoch 8000 - loss: 1.2151102474359874\n"
     ]
    },
    {
     "name": "stderr",
     "output_type": "stream",
     "text": [
      " 85%|████████▌ | 8520/10000 [01:28<00:13, 113.50it/s]"
     ]
    },
    {
     "name": "stdout",
     "output_type": "stream",
     "text": [
      "Epoch 8500 - loss: 1.1602366511087485\n"
     ]
    },
    {
     "name": "stderr",
     "output_type": "stream",
     "text": [
      " 90%|█████████ | 9018/10000 [01:33<00:09, 100.75it/s]"
     ]
    },
    {
     "name": "stdout",
     "output_type": "stream",
     "text": [
      "Epoch 9000 - loss: 1.1091814433480767\n"
     ]
    },
    {
     "name": "stderr",
     "output_type": "stream",
     "text": [
      " 95%|█████████▌| 9518/10000 [01:38<00:04, 102.67it/s]"
     ]
    },
    {
     "name": "stdout",
     "output_type": "stream",
     "text": [
      "Epoch 9500 - loss: 1.0614415244345323\n"
     ]
    },
    {
     "name": "stderr",
     "output_type": "stream",
     "text": [
      "100%|██████████| 10000/10000 [01:43<00:00, 96.52it/s]\n"
     ]
    },
    {
     "data": {
      "image/png": "[encoded data removed]",
      "text/plain": [
       "<Figure size 800x500 with 1 Axes>"
      ]
     },
     "metadata": {},
     "output_type": "display_data"
    },
    {
     "data": {
      "image/png": "[encoded data removed]",
      "text/plain": [
       "<Figure size 800x500 with 1 Axes>"
      ]
     },
     "metadata": {},
     "output_type": "display_data"
    },
    {
     "name": "stdout",
     "output_type": "stream",
     "text": [
      "Accuracy: 0.52\n"
     ]
    }
   ],
   "source": [
    "import torch\n",
    "import torch.nn as nn\n",
    "import matplotlib.pyplot as plt\n",
    "from sklearn.metrics import accuracy_score\n",
    "import tqdm as tqdm\n",
    "\n",
    "def model(X, w, b):\n",
    "    \"\"\"\n",
    "    fonction qui prédit la classe d'une image\n",
    "    @param X: image flatten\n",
    "    @param w: poids\n",
    "    @param b: bias\n",
    "    @return: probabilité que l'image appartienne à la classe 1\n",
    "    \"\"\"\n",
    "    z = X.dot(w) + b # produit matriciel et b use broadcasting pour combler b\n",
    "    a = 1 / (1 + np.exp(-z)) # sigmoid car je veux une probabilité entre 0 et 1 (deux classes : si < 0.5 alors 0 sinon 1)\n",
    "    return a\n",
    "\n",
    "def log_loss(a, y):\n",
    "    \"\"\"\n",
    "    Calcule la log loss (cross-entropie binaire) en utilisant numpy.\n",
    "    @param a: Probabilité que l'image appartienne à la classe 1 (tableau numpy)\n",
    "    @param y: Classe réelle de l'image (tableau numpy)\n",
    "    @return: Log loss\n",
    "    \"\"\"\n",
    "    epsilon = 1e-15\n",
    "    return 1 / len(y) * np.sum(-y * np.log(a + epsilon) - (1 - y) * np.log(1 - a + epsilon))\n",
    "\n",
    "def gradient(X, A, y):\n",
    "    \"\"\"Fonction qui calcule le gradient de la fonction de cout par rapport à w et b en utilsant le principe de la chaine afin de decomposer le calcule de depart qui est derive du cout par rapport a w ou b car effectivmenet, on a pas directement w1 et b dans la fonctio nde cout donc on doit decomposer le calcule(voir explication plus bas).\n",
    "    @param X: image flatten\n",
    "    @param a: probabilité que l'image appartienne à la classe 1\n",
    "    @param y: vraie classe de l'image\n",
    "    @return: matrice des gradient de la fonction de cout par rapport à w et idem pour b\n",
    "    ca nous donne les gradient pour chaque poids et bias qu servi a mettre a jour les poids et bias plus tard\n",
    "    \"\"\"\n",
    "    # derive de la fonction de cout par rapport à w et b calculé au prealable et ca donne ca\n",
    "    # attention, si la fonction de perte/cout change ou que la fonction d activation change, il faut recalculer le gradient ou use pytorch, autograd ou keras qui le fait otut seul\n",
    "    dW = 1 / len(y) * np.dot(X.T, A - y)\n",
    "    db = 1 / len(y) * np.sum(A - y)\n",
    "    return (dW, db)\n",
    "\n",
    "def update(dW, db, W, b, learning_rate):\n",
    "    \"\"\"\n",
    "    fonction qui met à jour les poids et le bias\n",
    "    @param dW: gradient de la fonction de cout par rapport à w\n",
    "    @param db: gradient de la fonction de cout par rapport à b\n",
    "    @param W: poids\n",
    "    @param b: bias\n",
    "    @param learning_rate: taux d'apprentissage (pas donc la vitesse a laquelle on apprend)\n",
    "    @return: nouveaux poids et bias\n",
    "    \"\"\"\n",
    "    W = W - learning_rate * dW\n",
    "    b = b - learning_rate * db\n",
    "    return (W, b)\n",
    "\n",
    "def predict(x, w, b):\n",
    "    \"\"\"\n",
    "    fonction qui va predire pour chque image si elle appartient à la classe 1 ou 0 et redonne une matrice\n",
    "    @param x: image flatten \n",
    "    @param w: poids\n",
    "    @param b: bias\n",
    "    @return: classe prédite\n",
    "    \"\"\"\n",
    "    # prédire la classe\n",
    "    A = model(x, w, b)\n",
    "    # si la probabilité est supérieure à 0.5, on prédit 1 sinon 0\n",
    "    return A >= 0.5\n",
    "\n",
    "def train(X, y, x_test, y_test, learning_rate, epochs=1000):\n",
    "    \"\"\"\n",
    "    fonction qui entraine le modèle\n",
    "    @param X: images flatten\n",
    "    @param y: vraies classes des images\n",
    "    @param w: poids\n",
    "    @param b: bias\n",
    "    @param learning_rate: taux d'apprentissage\n",
    "    @param epochs: nombre d'itérations\n",
    "    @return: poids et bias entrainés\n",
    "    \"\"\"\n",
    "    # init model\n",
    "    loss_values_train = []\n",
    "    loss_values_test = []\n",
    "    accuracy_values_test = []\n",
    "    accuracy_values_train = []\n",
    "    w, b = initialize_with_zeros(X.shape[1])\n",
    "    # boucle d entrainement\n",
    "    for epoch in tqdm.tqdm(range(epochs)):\n",
    "        # prédire la classe\n",
    "        A = model(X, w, b)\n",
    "        # calculer la fonction de cout\n",
    "        loss = log_loss(A, y)\n",
    "        # calculer le gradient\n",
    "        dW, db = gradient(X, A, y)\n",
    "        # mettre à jour les poids\n",
    "        w, b = update(dW, db, w, b, learning_rate)\n",
    "\n",
    "        # afficher la loss et epoch toute les 500 epochs\n",
    "        if epoch % 500 == 0:\n",
    "            print(f\"Epoch {epoch} - loss: {loss}\")\n",
    "        # save accuracy test and train\n",
    "        # faire les affichages des qu on a un multiple de 10\n",
    "        if epoch % 10 == 0:\n",
    "            a_test = model(x_test, w, b)\n",
    "            accuracy_values_test.append((accuracy_score(y_test, a_test>=0.5), epoch))\n",
    "            accuracy_values_train.append((accuracy_score(y, A>=0.5), epoch))\n",
    "            # save loss train and test\n",
    "            loss_values_train.append((loss, epoch))\n",
    "            loss_values_test.append((log_loss(a_test, y_test), epoch))\n",
    "    return (w, b, loss_values_train, loss_values_test, accuracy_values_train, accuracy_values_test)\n",
    "\n",
    "# --------------------------------entrainer le modèle----------------------------\n",
    "w, b, loss_values_train, loss_values_test, accuracy_values_train, accuracy_values_test  = train(x_train, y_train, x_test, y_test, 0.01, 10000)\n",
    "\n",
    "# afficher evolution loss train et test sur la meme courbe\n",
    "# Créer la figure et tracer la courbe\n",
    "plt.figure(figsize=(8, 5))  # Taille de la figure\n",
    "plt.plot(np.array(loss_values_train)[:, 1:2], np.array(loss_values_train)[:, :1], label='train', linestyle='-', marker='o', color='blue')  # Tracer y en fonction de x\n",
    "plt.plot(np.array(loss_values_test)[:, 1:2], np.array(loss_values_test)[:, :1], label='test', linestyle='-', marker='o', color='yellow')  # Tracer y en fonction de x\n",
    "\n",
    "# Ajouter un titre et des labels\n",
    "plt.title(\"Evolution de la perte en fonction de l'epoch\")\n",
    "plt.xlabel(\"Valeur de l epoch\")\n",
    "plt.ylabel(\"Valeur de la perte\")\n",
    "\n",
    "# Ajouter une légende\n",
    "plt.legend()\n",
    "\n",
    "# Afficher la grille pour faciliter la lecture du graphique\n",
    "plt.grid(True)\n",
    "\n",
    "# Afficher le graphique\n",
    "plt.show()\n",
    "\n",
    "# affficher evolution accuracy\n",
    "# Créer la figure et tracer la courbe\n",
    "plt.figure(figsize=(8, 5))  # Taille de la figure\n",
    "plt.plot(np.array(accuracy_values_train)[:, 1:2], np.array(accuracy_values_train)[:, :1], label='train', linestyle='-', marker='o', color='blue')  # Tracer y en fonction de x\n",
    "plt.plot(np.array(accuracy_values_test)[:, 1:2], np.array(accuracy_values_test)[:, :1], label='test', linestyle='-', marker='o', color='yellow')  # Tracer y en fonction de x\n",
    "\n",
    "# Ajouter un titre et des labels\n",
    "plt.title(\"Evolution de l'accuracy en fonction de l'epoch\")\n",
    "plt.xlabel(\"Valeur de l epoch\")\n",
    "plt.ylabel(\"Valeur de l'accuracy\")\n",
    "\n",
    "# Ajouter une légende\n",
    "plt.legend()\n",
    "\n",
    "# Afficher la grille pour faciliter la lecture du graphique\n",
    "plt.grid(True)\n",
    "\n",
    "# Afficher le graphique\n",
    "plt.show()\n",
    "\n",
    "# --------------------------------tester le modèle----------------------------\n",
    "def predict_final(X, w, b, y):\n",
    "    \"\"\"\n",
    "    fonction qui va donner la précision du modèle\n",
    "    @param X: image flatten\n",
    "    @param w: poids\n",
    "    @param b: bias\n",
    "    @param y: vraies classes des images\n",
    "    @return: classe prédite\n",
    "    \"\"\"\n",
    "    A = predict(X, w, b)\n",
    "    # calculer la fonction de cout\n",
    "    score_accuracy = accuracy_score(y, A)\n",
    "    return score_accuracy\n",
    "\n",
    "# tester le modèle\n",
    "score_accuracy = predict_final(x_test, w, b, y_test)\n",
    "print(f\"Accuracy: {score_accuracy}\")\n",
    "    \n",
    "\n",
    "\n",
    "    \n",
    "\n",
    "\n"
   ]
  },
  {
   "cell_type": "code",
   "execution_count": null,
   "metadata": {},
   "outputs": [],
   "source": [
    "#On voit clairement que le modèle est overfitting car la loss sur le train set est bien plus basse que sur le test set. on le voit aussi sur la courbe d accuracy qui est bien plus haute sur le train set que sur le test set. \n",
    "# idealement, on devrait use la validation croise pour valider notre modele afin de tester differentes melange de set train/test au lieu de prendre juste tout le train afin d avoir une meilleur idee de la performance du modele. (j ai choisi ici de ne jamais montrer mes data de test au modele pour voir ca perf reel)"
   ]
  }
 ],
 "metadata": {
  "kernelspec": {
   "display_name": ".venv",
   "language": "python",
   "name": "python3"
  },
  "language_info": {
   "codemirror_mode": {
    "name": "ipython",
    "version": 3
   },
   "file_extension": ".py",
   "mimetype": "text/x-python",
   "name": "python",
   "nbconvert_exporter": "python",
   "pygments_lexer": "ipython3",
   "version": "3.9.7"
  }
 },
 "nbformat": 4,
 "nbformat_minor": 2
}
